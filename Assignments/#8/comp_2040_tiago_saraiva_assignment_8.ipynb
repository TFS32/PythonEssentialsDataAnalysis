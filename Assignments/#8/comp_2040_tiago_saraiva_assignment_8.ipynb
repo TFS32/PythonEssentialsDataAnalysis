{
 "cells": [
  {
   "cell_type": "code",
   "execution_count": 1,
   "id": "578e7f57-ab20-4b5b-bb77-6fa0b88dd11e",
   "metadata": {},
   "outputs": [],
   "source": [
    "from math import sqrt"
   ]
  },
  {
   "cell_type": "markdown",
   "id": "9ed1772b-4c5b-47d3-ad52-dbcb5c6f3513",
   "metadata": {},
   "source": [
    "# Feijoada recipe"
   ]
  },
  {
   "cell_type": "markdown",
   "id": "8c6a2a0c-5de8-4fd3-8104-bd49480fa224",
   "metadata": {},
   "source": [
    "__Tiago Saraiva__  \n",
    "**2024-02-26**"
   ]
  },
  {
   "cell_type": "markdown",
   "id": "74f97331-6581-40a3-80b0-a8397028ab7b",
   "metadata": {},
   "source": [
    "*Assignment #8*  \n",
    "*Python Essentials Wiht Data Analysis*"
   ]
  },
  {
   "cell_type": "markdown",
   "id": "24514b0f-3f5c-4c88-9af5-abcb59c4caf3",
   "metadata": {},
   "source": [
    "Check out this [recipe][feijoada]!\n",
    "\n",
    "[feijoada]: https://www.daringgourmet.com/feijoada/"
   ]
  },
  {
   "cell_type": "markdown",
   "id": "7493c820-3c2e-4224-84aa-6ac15ddecbdf",
   "metadata": {},
   "source": [
    "<div>\n",
    "    <img src=\"https://www.daringgourmet.com/wp-content/uploads/2021/09/Feijoada-3.jpg\" alt=\"picture of brazilian feijoada\" width=\"300\"/>\n",
    "</div>"
   ]
  },
  {
   "cell_type": "markdown",
   "id": "dcf86133-9682-42bc-bd62-243ac4132478",
   "metadata": {},
   "source": [
    "There is also a music about this tasty [food][chico].\n",
    "\n",
    "[chico]: https://www.youtube.com/watch?v=dZZgtHUgSEQ"
   ]
  },
  {
   "cell_type": "code",
   "execution_count": 2,
   "id": "7baa7c60-2abd-4f99-91d6-6d71777edff8",
   "metadata": {},
   "outputs": [
    {
     "name": "stdin",
     "output_type": "stream",
     "text": [
      "Insert a number:  16\n",
      "Insert a number:  18\n",
      "Insert a number:  csa\n"
     ]
    },
    {
     "name": "stdout",
     "output_type": "stream",
     "text": [
      "Please user, insert a number.\n"
     ]
    },
    {
     "name": "stdin",
     "output_type": "stream",
     "text": [
      "Insert a number:  85\n"
     ]
    }
   ],
   "source": [
    "numbers = []\n",
    "\n",
    "while len(numbers) < 3:\n",
    "    try:\n",
    "        user_input = float(input(\"Insert a number: \"))\n",
    "        numbers.append(user_input)\n",
    "    except ValueError:\n",
    "        print(\"Please user, insert a number.\")\n",
    "\n",
    "x, y, z = numbers"
   ]
  },
  {
   "cell_type": "code",
   "execution_count": 3,
   "id": "1fe775fc-281a-4685-8454-56abfe2dc963",
   "metadata": {},
   "outputs": [
    {
     "data": {
      "text/plain": [
       "88.34591105421914"
      ]
     },
     "execution_count": 3,
     "metadata": {},
     "output_type": "execute_result"
    }
   ],
   "source": [
    "f = lambda x, y, z: sqrt(x**2 + y**2 + z**2)\n",
    "f(x, y, z)"
   ]
  },
  {
   "cell_type": "markdown",
   "id": "4c8771f4-a4a4-4a69-b6d7-95725d465a18",
   "metadata": {},
   "source": [
    "###### Just introducing the picture again with the code from the markdown tutorial."
   ]
  },
  {
   "cell_type": "markdown",
   "id": "2e36c99b-dc68-4acc-939a-dc6898824afa",
   "metadata": {},
   "source": [
    "![picture of brazilian feijoada](https://www.daringgourmet.com/wp-content/uploads/2021/09/Feijoada-3.jpg)"
   ]
  }
 ],
 "metadata": {
  "kernelspec": {
   "display_name": "Python 3 (ipykernel)",
   "language": "python",
   "name": "python3"
  },
  "language_info": {
   "codemirror_mode": {
    "name": "ipython",
    "version": 3
   },
   "file_extension": ".py",
   "mimetype": "text/x-python",
   "name": "python",
   "nbconvert_exporter": "python",
   "pygments_lexer": "ipython3",
   "version": "3.11.8"
  }
 },
 "nbformat": 4,
 "nbformat_minor": 5
}
